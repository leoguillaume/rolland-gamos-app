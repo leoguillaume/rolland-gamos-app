{
 "cells": [
  {
   "cell_type": "code",
   "execution_count": 16,
   "id": "0d346987",
   "metadata": {},
   "outputs": [],
   "source": [
    "import psycopg2, joblib, os, ast\n",
    "import pandas as pd\n",
    "import numpy as np\n",
    "import networkx as nx\n",
    "from random import seed\n"
   ]
  },
  {
   "cell_type": "code",
   "execution_count": 17,
   "id": "60c1bf5d",
   "metadata": {},
   "outputs": [],
   "source": [
    "seed(4)"
   ]
  },
  {
   "cell_type": "code",
   "execution_count": 18,
   "id": "af47c3bd",
   "metadata": {},
   "outputs": [],
   "source": [
    "INPUT_PATH = '../data'"
   ]
  },
  {
   "cell_type": "code",
   "execution_count": 19,
   "id": "bc392f9b",
   "metadata": {},
   "outputs": [],
   "source": [
    "def get_query(_sql_cnx, query, fetchall:bool=True, return_cursor:bool=False):\n",
    "    \n",
    "    cursor = _sql_cnx.cursor()\n",
    "    cursor.execute(query)\n",
    "    if fetchall:\n",
    "        result = cursor.fetchall()\n",
    "    else:\n",
    "        result = cursor.fetchone()\n",
    "   \n",
    "    if return_cursor:\n",
    "        return result, cursor\n",
    "    \n",
    "    else:\n",
    "        cursor.close()\n",
    "        return result"
   ]
  },
  {
   "cell_type": "code",
   "execution_count": 20,
   "id": "750de32c",
   "metadata": {},
   "outputs": [],
   "source": [
    "SQL_CNX = psycopg2.connect(host='localhost', database='rapdashboard', user='leo')"
   ]
  },
  {
   "cell_type": "code",
   "execution_count": 21,
   "id": "46b85b06",
   "metadata": {},
   "outputs": [],
   "source": [
    "query = 'SELECT * FROM artist'\n",
    "result, cursor = get_query(SQL_CNX, query, return_cursor=True)\n",
    "\n",
    "columns = [column.name for column in cursor.description]\n",
    "cursor.close()\n",
    "\n",
    "artist_table = pd.DataFrame(result, columns=columns)\n",
    "artist_table.replace('NULL', np.NaN, inplace=True)\n",
    "\n",
    "for column in artist_table.select_dtypes('object').columns:\n",
    "    artist_table[column] = artist_table[column].astype(str).str.replace('%22', '\\'', regex=True).str.replace('%27', '\\\"', regex=True)\n",
    "    \n",
    "query = 'SELECT * FROM album'\n",
    "    \n",
    "result, cursor = get_query(SQL_CNX, query, return_cursor=True)\n",
    "\n",
    "columns = [column.name for column in cursor.description]\n",
    "cursor.close()\n",
    "\n",
    "album_table = pd.DataFrame(result, columns=columns)\n",
    "album_table.replace('NULL', np.NaN, inplace=True)\n",
    "\n",
    "for column in album_table.select_dtypes('object').columns:\n",
    "    album_table[column] = album_table[column].astype(str).str.replace('%22', '\\'', regex=True).str.replace('%27', '\\\"', regex=True)\n",
    "\n",
    "query = 'SELECT * FROM artist_album'\n",
    "\n",
    "result, cursor = get_query(SQL_CNX, query, return_cursor=True)\n",
    "\n",
    "columns = [column.name for column in cursor.description]\n",
    "cursor.close()\n",
    "\n",
    "artist_album_table = pd.DataFrame(result, columns=columns)\n",
    "artist_album_table.replace('NULL', np.NaN, inplace=True)"
   ]
  },
  {
   "cell_type": "code",
   "execution_count": 22,
   "id": "a5db559b",
   "metadata": {},
   "outputs": [],
   "source": [
    "# create an table with artist id, name and nb featuring\n",
    "data = album_table.merge(artist_album_table, on='album_id', how='left')\n",
    "data = data.merge(artist_table, on='artist_id', how='left')"
   ]
  },
  {
   "cell_type": "code",
   "execution_count": 23,
   "id": "99d935bd",
   "metadata": {},
   "outputs": [],
   "source": [
    "artist_table.to_csv(os.path.join(INPUT_PATH, 'artist.csv'), columns=['artist_id', 'artist_name'], index=False)"
   ]
  },
  {
   "cell_type": "code",
   "execution_count": 24,
   "id": "5aa6ef8b",
   "metadata": {},
   "outputs": [],
   "source": [
    "data.loc[:, 'featuring_id_list'] = data.featuring_id_list.apply(lambda x: ast.literal_eval(x))\n",
    "data = data.groupby('artist_id').featuring_id_list.sum().to_frame().reset_index()\n",
    "data.artist_id = data.artist_id.astype(int)"
   ]
  },
  {
   "cell_type": "code",
   "execution_count": 25,
   "id": "404abe7e",
   "metadata": {},
   "outputs": [],
   "source": [
    "# remove when the artist is in the featuring list\n",
    "data.loc[:, 'featuring_id_list'] = data.apply(lambda x: [a for a in x['featuring_id_list'] if a != x['artist_id']], axis=1)"
   ]
  },
  {
   "cell_type": "code",
   "execution_count": 26,
   "id": "c6fbd758",
   "metadata": {},
   "outputs": [],
   "source": [
    "data['featuring_count'] = data.featuring_id_list.apply(len)\n",
    "data['featuring_unique'] = data.featuring_id_list.apply(lambda x: len(set(x)))"
   ]
  },
  {
   "cell_type": "code",
   "execution_count": 27,
   "id": "52b3b8d6",
   "metadata": {},
   "outputs": [],
   "source": [
    "# remove artist without featuring\n",
    "data = data.loc[data.featuring_unique > 0]"
   ]
  },
  {
   "cell_type": "code",
   "execution_count": 28,
   "id": "205877b5",
   "metadata": {},
   "outputs": [],
   "source": [
    "# complete with artist in featuring list but not in artist id "
   ]
  },
  {
   "cell_type": "code",
   "execution_count": 29,
   "id": "89975e13",
   "metadata": {},
   "outputs": [],
   "source": [
    "all_featurings = data.featuring_id_list.explode().unique()\n",
    "featuring_not_in_artist_ids = all_featurings[~np.isin(all_featurings, data.artist_id)]"
   ]
  },
  {
   "cell_type": "code",
   "execution_count": 30,
   "id": "b378acb0",
   "metadata": {},
   "outputs": [],
   "source": [
    "add_data = dict()\n",
    "for index, row in data.iterrows():\n",
    "    \n",
    "    for artist_id in row['featuring_id_list']:\n",
    "        if artist_id in featuring_not_in_artist_ids:\n",
    "            if not artist_id in add_data:\n",
    "                add_data[artist_id] = [row['artist_id']]\n",
    "            else:\n",
    "                if not row['artist_id'] in add_data[artist_id]:\n",
    "                    add_data[artist_id].append(row['artist_id'])"
   ]
  },
  {
   "cell_type": "code",
   "execution_count": 31,
   "id": "d893b30f",
   "metadata": {},
   "outputs": [],
   "source": [
    "add_data = pd.Series(add_data).to_frame().reset_index().rename(columns={'index': 'artist_id', 0: 'featuring_id_list'})"
   ]
  },
  {
   "cell_type": "code",
   "execution_count": 32,
   "id": "05b892f4",
   "metadata": {},
   "outputs": [],
   "source": [
    "data = pd.concat([data, add_data], ignore_index=True)"
   ]
  },
  {
   "cell_type": "code",
   "execution_count": 33,
   "id": "a8694e6a",
   "metadata": {},
   "outputs": [],
   "source": [
    "data['featuring_count'] = data.featuring_id_list.apply(len)\n",
    "data['featuring_unique'] = data.featuring_id_list.apply(lambda x: len(set(x)))"
   ]
  },
  {
   "cell_type": "code",
   "execution_count": 34,
   "id": "61e0b700",
   "metadata": {},
   "outputs": [],
   "source": [
    "data = data.merge(artist_table, on='artist_id', how='left')"
   ]
  },
  {
   "cell_type": "code",
   "execution_count": 35,
   "id": "e10af33d",
   "metadata": {},
   "outputs": [],
   "source": [
    "def rolland_gamos(artist_id:int, featuring_list:list, level:int=5, p:int=0, log:list=list()):\n",
    "        \n",
    "    print('p:', p)\n",
    "    print('log:', log)\n",
    "    \n",
    "    if not artist_id in featuring_list:\n",
    "        print('Fail ! No featuring between these artists.')\n",
    "        \n",
    "    elif not artist_id in log:\n",
    "        print('Fail ! Artist already played.')\n",
    "    \n",
    "    else:\n",
    "        log.append(artist_id)\n",
    "        \n",
    "        n_featurings = data.loc[data.artist_id == artist_id, 'featuring_unique'].iloc[0]\n",
    "        print(n_featurings)\n",
    "        if n_featurings < level:\n",
    "            print('Win ! Level win.')\n",
    "        else:\n",
    "            l = np.random.randint(0, 100)\n",
    "            if p >= l:\n",
    "                print('Win ! Prob fail reach.')\n",
    "            else:\n",
    "                featuring_list = data.loc[data.artist_id == artist_id, \"featuring_id_list\"].iloc[0]\n",
    "                featuring_list = data.loc[\n",
    "                    (data.artist_id.isin(featuring_list)) \n",
    "                    & (data.featuring_unique >= level) \n",
    "                    & (~ data.artist_id.isin(log)),\n",
    "                    'artist_id']\n",
    "                \n",
    "                if len(featuring_list) == 0:\n",
    "                    print('Win ! No featuring found.')\n",
    "                else:\n",
    "                    artist_id = np.random.choice(featuring_list)\n",
    "                    log.append(artist_id)\n",
    "                    featuring_list = data.loc[data.artist_id == artist_id, \"featuring_id_list\"].iloc[0]\n",
    "\n",
    "                    print(featuring_list)\n",
    "                    artist_id = int(input(\"Enter an artist ID:\\n\"))\n",
    "                    rolland_gamos(artist_id, featuring_list, level, p+1, log)"
   ]
  },
  {
   "cell_type": "code",
   "execution_count": null,
   "id": "eea50c78",
   "metadata": {},
   "outputs": [],
   "source": []
  },
  {
   "cell_type": "code",
   "execution_count": 36,
   "id": "ddc38901",
   "metadata": {},
   "outputs": [],
   "source": [
    "artist_dict = dict(artist_table.set_index('artist_id').artist_name)"
   ]
  },
  {
   "cell_type": "code",
   "execution_count": 42,
   "id": "add88e67",
   "metadata": {},
   "outputs": [
    {
     "data": {
      "text/plain": [
       "['../data/artist_names.p']"
      ]
     },
     "execution_count": 42,
     "metadata": {},
     "output_type": "execute_result"
    }
   ],
   "source": [
    "joblib.dump(artist_dict, '../data/artist_names.p')"
   ]
  },
  {
   "cell_type": "code",
   "execution_count": 37,
   "id": "7f2dff40",
   "metadata": {},
   "outputs": [],
   "source": [
    "G = joblib.load(os.path.join(INPUT_PATH, 'graph.p'))"
   ]
  },
  {
   "cell_type": "code",
   "execution_count": 45,
   "id": "d94d3229",
   "metadata": {},
   "outputs": [
    {
     "data": {
      "text/plain": [
       "True"
      ]
     },
     "execution_count": 45,
     "metadata": {},
     "output_type": "execute_result"
    }
   ],
   "source": [
    "G.has_edge(248, 12)"
   ]
  },
  {
   "cell_type": "code",
   "execution_count": 42,
   "id": "25e7304f",
   "metadata": {},
   "outputs": [
    {
     "ename": "TypeError",
     "evalue": "cannot unpack non-iterable int object",
     "output_type": "error",
     "traceback": [
      "\u001b[0;31m---------------------------------------------------------------------------\u001b[0m",
      "\u001b[0;31mTypeError\u001b[0m                                 Traceback (most recent call last)",
      "Input \u001b[0;32mIn [42]\u001b[0m, in \u001b[0;36m<module>\u001b[0;34m\u001b[0m\n\u001b[0;32m----> 1\u001b[0m \u001b[43mG\u001b[49m\u001b[38;5;241;43m.\u001b[39;49m\u001b[43medges\u001b[49m\u001b[43m(\u001b[49m\u001b[43m)\u001b[49m\u001b[43m[\u001b[49m\u001b[38;5;241;43m12\u001b[39;49m\u001b[43m]\u001b[49m[\u001b[38;5;241m248\u001b[39m]\n",
      "File \u001b[0;32m~/env/code/lib/python3.9/site-packages/networkx/classes/reportviews.py:1031\u001b[0m, in \u001b[0;36mOutEdgeView.__getitem__\u001b[0;34m(self, e)\u001b[0m\n\u001b[1;32m   1026\u001b[0m \u001b[38;5;28;01mif\u001b[39;00m \u001b[38;5;28misinstance\u001b[39m(e, \u001b[38;5;28mslice\u001b[39m):\n\u001b[1;32m   1027\u001b[0m     \u001b[38;5;28;01mraise\u001b[39;00m nx\u001b[38;5;241m.\u001b[39mNetworkXError(\n\u001b[1;32m   1028\u001b[0m         \u001b[38;5;124mf\u001b[39m\u001b[38;5;124m\"\u001b[39m\u001b[38;5;132;01m{\u001b[39;00m\u001b[38;5;28mtype\u001b[39m(\u001b[38;5;28mself\u001b[39m)\u001b[38;5;241m.\u001b[39m\u001b[38;5;18m__name__\u001b[39m\u001b[38;5;132;01m}\u001b[39;00m\u001b[38;5;124m does not support slicing, \u001b[39m\u001b[38;5;124m\"\u001b[39m\n\u001b[1;32m   1029\u001b[0m         \u001b[38;5;124mf\u001b[39m\u001b[38;5;124m\"\u001b[39m\u001b[38;5;124mtry list(G.edges)[\u001b[39m\u001b[38;5;132;01m{\u001b[39;00me\u001b[38;5;241m.\u001b[39mstart\u001b[38;5;132;01m}\u001b[39;00m\u001b[38;5;124m:\u001b[39m\u001b[38;5;132;01m{\u001b[39;00me\u001b[38;5;241m.\u001b[39mstop\u001b[38;5;132;01m}\u001b[39;00m\u001b[38;5;124m:\u001b[39m\u001b[38;5;132;01m{\u001b[39;00me\u001b[38;5;241m.\u001b[39mstep\u001b[38;5;132;01m}\u001b[39;00m\u001b[38;5;124m]\u001b[39m\u001b[38;5;124m\"\u001b[39m\n\u001b[1;32m   1030\u001b[0m     )\n\u001b[0;32m-> 1031\u001b[0m u, v \u001b[38;5;241m=\u001b[39m e\n\u001b[1;32m   1032\u001b[0m \u001b[38;5;28;01mreturn\u001b[39;00m \u001b[38;5;28mself\u001b[39m\u001b[38;5;241m.\u001b[39m_adjdict[u][v]\n",
      "\u001b[0;31mTypeError\u001b[0m: cannot unpack non-iterable int object"
     ]
    }
   ],
   "source": [
    "G.edges()[12][248]"
   ]
  },
  {
   "cell_type": "code",
   "execution_count": null,
   "id": "2ff7082f",
   "metadata": {},
   "outputs": [],
   "source": []
  },
  {
   "cell_type": "code",
   "execution_count": null,
   "id": "91782f86",
   "metadata": {},
   "outputs": [],
   "source": []
  },
  {
   "cell_type": "code",
   "execution_count": null,
   "id": "71ac562c",
   "metadata": {},
   "outputs": [],
   "source": []
  },
  {
   "cell_type": "code",
   "execution_count": null,
   "id": "73265f7b",
   "metadata": {},
   "outputs": [],
   "source": []
  },
  {
   "cell_type": "code",
   "execution_count": 20,
   "id": "6543e181",
   "metadata": {},
   "outputs": [],
   "source": [
    "def rolland_gamos(artist_id:int, featuring_list:list, level:int=5, p:int=0, log:list=list()):\n",
    "        \n",
    "    print(f'p: {p} %')\n",
    "\n",
    "    if artist_id in log:\n",
    "        print('Fail ! Artist already played.')\n",
    "        \n",
    "    elif not artist_id in featuring_list:\n",
    "        print('Fail ! No featuring between these artists.')\n",
    "            \n",
    "    else:\n",
    "        log.append(artist_id)\n",
    "        \n",
    "        featuring_list = [n1 for n0, n1 in G.edges([artist_id])]\n",
    "                \n",
    "        if len(featuring_list) < level:\n",
    "            print('Win ! Level win.')\n",
    "        else:\n",
    "            l = np.random.randint(0, 100)\n",
    "            if p >= l:\n",
    "                print('Win ! Prob fail reach.')\n",
    "            else:\n",
    "                print('log:', log)\n",
    "                featuring_list = [node for node in featuring_list if len(G.edges([node])) > level and not node in log]\n",
    "                \n",
    "                if len(featuring_list) == 0:\n",
    "                    print('Win ! No featuring found.')\n",
    "                else:\n",
    "                    artist_id = np.random.choice(featuring_list)\n",
    "                    log.append(artist_id)\n",
    "                    print('New artist:', artist_id)\n",
    "                    \n",
    "                    featuring_list = [n1 for n0, n1 in G.edges([artist_id])]\n",
    "                    print(featuring_list)\n",
    "                    \n",
    "                    artist_id = int(input(\"Enter an artist ID:\\n\"))\n",
    "                    rolland_gamos(artist_id, featuring_list, level, p+1, log)\n",
    "        \n",
    "    "
   ]
  },
  {
   "cell_type": "code",
   "execution_count": 21,
   "id": "b74be4fe",
   "metadata": {},
   "outputs": [],
   "source": [
    "start_artist_list = [node for node in G.nodes() if len(G.edges([node])) > 50]"
   ]
  },
  {
   "cell_type": "code",
   "execution_count": 25,
   "id": "db91c81a",
   "metadata": {},
   "outputs": [
    {
     "name": "stdout",
     "output_type": "stream",
     "text": [
      "32\n",
      "[7297, 2817, 40, 5811, 7445, 5494, 918, 3930, 123, 22, 74, 229, 232, 3162, 7472, 112, 409, 282, 3003, 2175, 4479, 5674, 7456, 80, 6940, 6626, 2052, 518, 391, 6252, 6124, 6926, 2641, 6802, 4028, 330, 325, 352, 333, 16, 82, 52, 157, 407, 31, 780, 30, 78, 33, 3245, 1681, 1815, 2524, 1638, 1640]\n",
      "\n",
      "Enter an artist ID:\n",
      "22\n",
      "p: 0 %\n",
      "log: [32, 22]\n",
      "New artist: 232\n",
      "[45, 56, 44, 102, 205, 220, 32, 482, 43, 5005, 2842, 3003, 348, 3197, 31, 192, 4613, 17, 27, 5534, 33, 5680, 7473, 1973, 2364, 201, 1740, 4178, 2145, 7393, 2543, 367, 4467, 6011, 295, 2404, 2884, 88, 7514, 412, 80, 242, 13, 398, 144, 6931, 7342, 312, 64, 6084, 204, 213, 1112, 100, 6125, 118, 321, 5057, 391, 408, 91, 7581, 434, 478, 489, 566, 352, 159, 75, 520, 2275, 4245, 22, 762, 261, 764, 719, 5813, 46, 36, 6, 320, 766, 831, 5579, 549, 507]\n",
      "Enter an artist ID:\n",
      "31\n",
      "p: 1 %\n",
      "log: [32, 22, 232, 31]\n",
      "New artist: 322\n",
      "[6630, 905, 409, 3355, 188, 1123, 7, 5363, 4729, 4858, 31, 4457, 5869, 3379, 2868, 1109, 3935]\n",
      "Enter an artist ID:\n",
      "4457\n",
      "p: 2 %\n",
      "Win ! Level win.\n"
     ]
    }
   ],
   "source": [
    "seed = 42\n",
    "first_artist_id = np.random.choice(start_artist_list)\n",
    "featuring_list = [n1 for n0, n1 in G.edges([first_artist_id])]\n",
    "print(first_artist_id)\n",
    "print(featuring_list)\n",
    "print()\n",
    "artist_id = int(input(\"Enter an artist ID:\\n\"))\n",
    "rolland_gamos(artist_id, featuring_list, log=[first_artist_id])"
   ]
  },
  {
   "cell_type": "code",
   "execution_count": 38,
   "id": "29d9d7c7",
   "metadata": {},
   "outputs": [],
   "source": [
    "start_artist_id_list = [node for node in G.nodes() if len(G.edges([node])) > 70]"
   ]
  },
  {
   "cell_type": "code",
   "execution_count": 11,
   "id": "9eb31901",
   "metadata": {},
   "outputs": [],
   "source": [
    "artist_dict = joblib.load('../data/artist_names.p')"
   ]
  },
  {
   "cell_type": "code",
   "execution_count": 13,
   "id": "a5eaa59c",
   "metadata": {},
   "outputs": [],
   "source": [
    "artist_dict_r = {artist_name:artist_id for artist_id, artist_name in artist_dict.items()}\n"
   ]
  },
  {
   "cell_type": "code",
   "execution_count": null,
   "id": "e061d468",
   "metadata": {},
   "outputs": [],
   "source": []
  },
  {
   "cell_type": "code",
   "execution_count": 33,
   "id": "93110c11",
   "metadata": {},
   "outputs": [
    {
     "data": {
      "text/plain": [
       "52"
      ]
     },
     "execution_count": 33,
     "metadata": {},
     "output_type": "execute_result"
    }
   ],
   "source": [
    "len(G.edges([126]))"
   ]
  },
  {
   "cell_type": "code",
   "execution_count": 39,
   "id": "4aefec5a",
   "metadata": {},
   "outputs": [
    {
     "data": {
      "text/plain": [
       "['Booba',\n",
       " 'Lino',\n",
       " 'Gims',\n",
       " 'LIM',\n",
       " 'Oxmo Puccino',\n",
       " 'Youssoupha',\n",
       " 'Disiz',\n",
       " 'Alonzo',\n",
       " 'Kery James',\n",
       " 'Seth Gueko',\n",
       " 'Grödash',\n",
       " 'Ol’ Kainry',\n",
       " 'Mystik',\n",
       " 'Rim’K',\n",
       " 'La Fouine',\n",
       " 'Swift Guad',\n",
       " 'Sofiane',\n",
       " 'Dosseh',\n",
       " 'Alkpote',\n",
       " 'Sadek',\n",
       " 'Soprano',\n",
       " 'Disiz',\n",
       " 'Rockin’ Squat',\n",
       " 'Mister You',\n",
       " 'Rohff',\n",
       " 'Lacrim',\n",
       " 'DJ Hamida',\n",
       " 'Leto',\n",
       " 'JuL',\n",
       " 'Lacraps',\n",
       " 'DJ Weedim',\n",
       " 'Jok’Air',\n",
       " 'Néochrome',\n",
       " 'Grünt',\n",
       " 'Rentre dans le Cercle',\n",
       " 'Le Classico Organisé']"
      ]
     },
     "execution_count": 39,
     "metadata": {},
     "output_type": "execute_result"
    }
   ],
   "source": [
    "[artist_dict[a] for a in start_artist_id_list]"
   ]
  },
  {
   "cell_type": "code",
   "execution_count": null,
   "id": "e7dd023b",
   "metadata": {},
   "outputs": [],
   "source": []
  },
  {
   "cell_type": "code",
   "execution_count": null,
   "id": "a940a704",
   "metadata": {},
   "outputs": [],
   "source": [
    "pd.re"
   ]
  },
  {
   "cell_type": "code",
   "execution_count": null,
   "id": "94cacb82",
   "metadata": {},
   "outputs": [],
   "source": [
    "G.nodes()"
   ]
  },
  {
   "cell_type": "code",
   "execution_count": 32,
   "id": "633b1e15",
   "metadata": {},
   "outputs": [
    {
     "data": {
      "text/plain": [
       "True"
      ]
     },
     "execution_count": 32,
     "metadata": {},
     "output_type": "execute_result"
    }
   ],
   "source": [
    "artist_dict_r[\"Zesau\"] in start_artist_id_list"
   ]
  },
  {
   "cell_type": "code",
   "execution_count": null,
   "id": "41fe8924",
   "metadata": {},
   "outputs": [],
   "source": []
  },
  {
   "cell_type": "code",
   "execution_count": 36,
   "id": "f7ae4f77",
   "metadata": {},
   "outputs": [
    {
     "data": {
      "text/plain": [
       "48"
      ]
     },
     "execution_count": 36,
     "metadata": {},
     "output_type": "execute_result"
    }
   ],
   "source": [
    "len(start_artist_id_list)"
   ]
  },
  {
   "cell_type": "code",
   "execution_count": null,
   "id": "feefabbd",
   "metadata": {},
   "outputs": [],
   "source": []
  }
 ],
 "metadata": {
  "kernelspec": {
   "display_name": "Python 3 (ipykernel)",
   "language": "python",
   "name": "python3"
  },
  "language_info": {
   "codemirror_mode": {
    "name": "ipython",
    "version": 3
   },
   "file_extension": ".py",
   "mimetype": "text/x-python",
   "name": "python",
   "nbconvert_exporter": "python",
   "pygments_lexer": "ipython3",
   "version": "3.9.10"
  },
  "toc": {
   "base_numbering": 1,
   "nav_menu": {},
   "number_sections": true,
   "sideBar": true,
   "skip_h1_title": false,
   "title_cell": "Table of Contents",
   "title_sidebar": "Contents",
   "toc_cell": false,
   "toc_position": {},
   "toc_section_display": true,
   "toc_window_display": false
  }
 },
 "nbformat": 4,
 "nbformat_minor": 5
}
